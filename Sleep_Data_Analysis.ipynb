{
 "cells": [
  {
   "cell_type": "code",
   "execution_count": 25,
   "id": "initial_id",
   "metadata": {
    "collapsed": true,
    "ExecuteTime": {
     "end_time": "2024-04-10T10:31:24.737790800Z",
     "start_time": "2024-04-10T10:31:24.732798200Z"
    }
   },
   "outputs": [],
   "source": [
    "import pandas as pd\n",
    "import matplotlib.pyplot as plt\n",
    "import seaborn as sns\n",
    "import numpy as np \n",
    "import warnings\n",
    "warnings.filterwarnings(\"ignore\")\n",
    "from sklearn.model_selection import train_test_split, cross_val_predict, cross_val_score\n",
    "from sklearn.preprocessing import StandardScaler, LabelEncoder\n",
    "from sklearn.linear_model import LogisticRegression\n",
    "from sklearn.tree import DecisionTreeClassifier\n",
    "from sklearn.metrics import confusion_matrix, precision_score, recall_score, f1_score, classification_report, accuracy_score"
   ]
  },
  {
   "cell_type": "code",
   "execution_count": 21,
   "outputs": [],
   "source": [
    "# Loading Multiple  CSV\n",
    "csv1 = pd.read_csv(\"Data1.csv\")\n",
    "csv1['Person'] = '1'\n",
    "\n",
    "csv2 = pd.read_csv(\"Data2.csv\")\n",
    "csv2['Person'] = '2'\n",
    "\n",
    "csv3 = pd.read_csv(\"Data3.csv\")\n",
    "csv3['Person'] = '3'\n",
    "\n",
    "# Combine into one DataFrame\n",
    "combined_df = pd.concat([csv1, csv2, csv3], ignore_index=True)\n",
    "\n",
    "# Write to a new CSV file\n",
    "combined_df.to_csv(\"combined_data.csv\", index=False)"
   ],
   "metadata": {
    "collapsed": false,
    "ExecuteTime": {
     "end_time": "2024-04-09T13:25:10.309771900Z",
     "start_time": "2024-04-09T13:25:09.933399700Z"
    }
   },
   "id": "ab6317e696953ccb"
  },
  {
   "cell_type": "markdown",
   "source": [
    "# Preprocessing"
   ],
   "metadata": {
    "collapsed": false
   },
   "id": "20e802479003a1b9"
  },
  {
   "cell_type": "code",
   "execution_count": 22,
   "outputs": [
    {
     "data": {
      "text/plain": "                                  0                                 1       \\\nID                  -NtRbm_DcFo4HGfcZkay              -NtRbo1VIt2ERLbqS0Hf   \nBPM                                 3.59                             12.48   \nDate    Thursday,-March-21-2024-00:08:37  Thursday,-March-21-2024-00:08:37   \nPerson                                 1                                 1   \n\n                                  2                                 3       \\\nID                  -NtRboLy4M2_SDxFFX5L              -NtRbp-ib_C7bf5Y7enP   \nBPM                                19.71                             76.82   \nDate    Thursday,-March-21-2024-00:08:45  Thursday,-March-21-2024-00:08:45   \nPerson                                 1                                 1   \n\n                                  4                                 5       \\\nID                  -NtRbpI-9VoKY9uMQRfq              -NtRbpcNu9jEculqeSW2   \nBPM                                24.97                             90.77   \nDate    Thursday,-March-21-2024-00:08:45  Thursday,-March-21-2024-00:08:50   \nPerson                                 1                                 1   \n\n                                  6                                 7       \\\nID                  -NtRbpzQTip1l6bTCwSD              -NtRbqJcUDI7Yd1K94L_   \nBPM                                83.22                             90.77   \nDate    Thursday,-March-21-2024-00:08:50  Thursday,-March-21-2024-00:08:50   \nPerson                                 1                                 1   \n\n                                  8                                 9       \\\nID                  -NtRbqqD8zf_KeMknrFf              -NtRbrBzW6z3l0_8q3lx   \nBPM                                41.01                             78.84   \nDate    Thursday,-March-21-2024-00:08:55  Thursday,-March-21-2024-00:08:55   \nPerson                                 1                                 1   \n\n        ...                          124324                          124325  \\\nID      ...            -Nu8tiME6dl5ISK6NOCw            -Nu8tkF8EzSzR5alxTJQ   \nBPM     ...                            68.0                            71.0   \nDate    ...  Friday,-March-29-2024-19:09:45  Friday,-March-29-2024-19:09:54   \nPerson  ...                               3                               3   \n\n                                124326                          124327  \\\nID                -Nu8tmCCDRaLDzCQL-yY            -Nu8to9IdMXkDs4FyKu7   \nBPM                               78.0                            68.0   \nDate    Friday,-March-29-2024-19:10:02  Friday,-March-29-2024-19:10:10   \nPerson                               3                               3   \n\n                                124328                          124329  \\\nID                -Nu8tq6Nn9EO7dHfOTdp            -Nu8ts3Um4Fj1NWOPzmX   \nBPM                               71.0                            65.0   \nDate    Friday,-March-29-2024-19:10:18  Friday,-March-29-2024-19:10:26   \nPerson                               3                               3   \n\n                                124330                          124331  \\\nID                -Nu8tu0TRXBdjyqRRtEJ            -Nu8tvyZX-3PEqBFZX_R   \nBPM                               78.0                            75.0   \nDate    Friday,-March-29-2024-19:10:34  Friday,-March-29-2024-19:10:42   \nPerson                               3                               3   \n\n                                124332                          124333  \nID                -Nu8txvcHcPneDSBxf3z            -Nu8tzshPyqr95_8nJZO  \nBPM                               53.0                           136.0  \nDate    Friday,-March-29-2024-19:10:50  Friday,-March-29-2024-19:10:58  \nPerson                               3                               3  \n\n[4 rows x 124334 columns]",
      "text/html": "<div>\n<style scoped>\n    .dataframe tbody tr th:only-of-type {\n        vertical-align: middle;\n    }\n\n    .dataframe tbody tr th {\n        vertical-align: top;\n    }\n\n    .dataframe thead th {\n        text-align: right;\n    }\n</style>\n<table border=\"1\" class=\"dataframe\">\n  <thead>\n    <tr style=\"text-align: right;\">\n      <th></th>\n      <th>0</th>\n      <th>1</th>\n      <th>2</th>\n      <th>3</th>\n      <th>4</th>\n      <th>5</th>\n      <th>6</th>\n      <th>7</th>\n      <th>8</th>\n      <th>9</th>\n      <th>...</th>\n      <th>124324</th>\n      <th>124325</th>\n      <th>124326</th>\n      <th>124327</th>\n      <th>124328</th>\n      <th>124329</th>\n      <th>124330</th>\n      <th>124331</th>\n      <th>124332</th>\n      <th>124333</th>\n    </tr>\n  </thead>\n  <tbody>\n    <tr>\n      <th>ID</th>\n      <td>-NtRbm_DcFo4HGfcZkay</td>\n      <td>-NtRbo1VIt2ERLbqS0Hf</td>\n      <td>-NtRboLy4M2_SDxFFX5L</td>\n      <td>-NtRbp-ib_C7bf5Y7enP</td>\n      <td>-NtRbpI-9VoKY9uMQRfq</td>\n      <td>-NtRbpcNu9jEculqeSW2</td>\n      <td>-NtRbpzQTip1l6bTCwSD</td>\n      <td>-NtRbqJcUDI7Yd1K94L_</td>\n      <td>-NtRbqqD8zf_KeMknrFf</td>\n      <td>-NtRbrBzW6z3l0_8q3lx</td>\n      <td>...</td>\n      <td>-Nu8tiME6dl5ISK6NOCw</td>\n      <td>-Nu8tkF8EzSzR5alxTJQ</td>\n      <td>-Nu8tmCCDRaLDzCQL-yY</td>\n      <td>-Nu8to9IdMXkDs4FyKu7</td>\n      <td>-Nu8tq6Nn9EO7dHfOTdp</td>\n      <td>-Nu8ts3Um4Fj1NWOPzmX</td>\n      <td>-Nu8tu0TRXBdjyqRRtEJ</td>\n      <td>-Nu8tvyZX-3PEqBFZX_R</td>\n      <td>-Nu8txvcHcPneDSBxf3z</td>\n      <td>-Nu8tzshPyqr95_8nJZO</td>\n    </tr>\n    <tr>\n      <th>BPM</th>\n      <td>3.59</td>\n      <td>12.48</td>\n      <td>19.71</td>\n      <td>76.82</td>\n      <td>24.97</td>\n      <td>90.77</td>\n      <td>83.22</td>\n      <td>90.77</td>\n      <td>41.01</td>\n      <td>78.84</td>\n      <td>...</td>\n      <td>68.0</td>\n      <td>71.0</td>\n      <td>78.0</td>\n      <td>68.0</td>\n      <td>71.0</td>\n      <td>65.0</td>\n      <td>78.0</td>\n      <td>75.0</td>\n      <td>53.0</td>\n      <td>136.0</td>\n    </tr>\n    <tr>\n      <th>Date</th>\n      <td>Thursday,-March-21-2024-00:08:37</td>\n      <td>Thursday,-March-21-2024-00:08:37</td>\n      <td>Thursday,-March-21-2024-00:08:45</td>\n      <td>Thursday,-March-21-2024-00:08:45</td>\n      <td>Thursday,-March-21-2024-00:08:45</td>\n      <td>Thursday,-March-21-2024-00:08:50</td>\n      <td>Thursday,-March-21-2024-00:08:50</td>\n      <td>Thursday,-March-21-2024-00:08:50</td>\n      <td>Thursday,-March-21-2024-00:08:55</td>\n      <td>Thursday,-March-21-2024-00:08:55</td>\n      <td>...</td>\n      <td>Friday,-March-29-2024-19:09:45</td>\n      <td>Friday,-March-29-2024-19:09:54</td>\n      <td>Friday,-March-29-2024-19:10:02</td>\n      <td>Friday,-March-29-2024-19:10:10</td>\n      <td>Friday,-March-29-2024-19:10:18</td>\n      <td>Friday,-March-29-2024-19:10:26</td>\n      <td>Friday,-March-29-2024-19:10:34</td>\n      <td>Friday,-March-29-2024-19:10:42</td>\n      <td>Friday,-March-29-2024-19:10:50</td>\n      <td>Friday,-March-29-2024-19:10:58</td>\n    </tr>\n    <tr>\n      <th>Person</th>\n      <td>1</td>\n      <td>1</td>\n      <td>1</td>\n      <td>1</td>\n      <td>1</td>\n      <td>1</td>\n      <td>1</td>\n      <td>1</td>\n      <td>1</td>\n      <td>1</td>\n      <td>...</td>\n      <td>3</td>\n      <td>3</td>\n      <td>3</td>\n      <td>3</td>\n      <td>3</td>\n      <td>3</td>\n      <td>3</td>\n      <td>3</td>\n      <td>3</td>\n      <td>3</td>\n    </tr>\n  </tbody>\n</table>\n<p>4 rows × 124334 columns</p>\n</div>"
     },
     "execution_count": 22,
     "metadata": {},
     "output_type": "execute_result"
    }
   ],
   "source": [
    "#Load and Display Combined Data\n",
    "data = pd.read_csv(\"combined_data.csv\")\n",
    "data.T.head(10)"
   ],
   "metadata": {
    "collapsed": false,
    "ExecuteTime": {
     "end_time": "2024-04-09T13:25:11.446804300Z",
     "start_time": "2024-04-09T13:25:11.286728100Z"
    }
   },
   "id": "61e0e0df32ac3971"
  },
  {
   "cell_type": "code",
   "execution_count": 23,
   "outputs": [],
   "source": [
    "# Drop the date column and keep only the time from the 'Date' column\n",
    "combined_df['Time'] = pd.to_datetime(combined_df['Date']).dt.time\n",
    "# Drop the 'ID' and 'Date' columns from the DataFrame\n",
    "combined_df.drop(['ID', 'Date'], axis=1, inplace=True)\n",
    "# Remove any rows with missing values\n",
    "combined_df.dropna(inplace=True)\n",
    "# Convert the time to seconds\n",
    "combined_df['Time'] = combined_df['Time'].apply(lambda x: x.hour * 3600 + x.minute * 60 + x.second)\n",
    "# Save the cleaned DataFrame to a new CSV file\n",
    "combined_df.to_csv(\"cleaned_data.csv\", index=False)"
   ],
   "metadata": {
    "collapsed": false,
    "ExecuteTime": {
     "end_time": "2024-04-09T13:27:13.903717400Z",
     "start_time": "2024-04-09T13:27:13.543856400Z"
    }
   },
   "id": "44de10425afd95e2"
  },
  {
   "cell_type": "code",
   "execution_count": 24,
   "outputs": [
    {
     "data": {
      "text/plain": "        0       1       2       3       4       5       6       7       \\\nBPM       3.59   12.48   19.71   76.82   24.97   90.77   83.22   90.77   \nPerson    1.00    1.00    1.00    1.00    1.00    1.00    1.00    1.00   \nTime    517.00  517.00  525.00  525.00  525.00  530.00  530.00  530.00   \n\n        8       9       ...   124257   124258   124259   124260   124261  \\\nBPM      41.01   78.84  ...     68.0     71.0     78.0     68.0     71.0   \nPerson    1.00    1.00  ...      3.0      3.0      3.0      3.0      3.0   \nTime    535.00  535.00  ...  68985.0  68994.0  69002.0  69010.0  69018.0   \n\n         124262   124263   124264   124265   124266  \nBPM        65.0     78.0     75.0     53.0    136.0  \nPerson      3.0      3.0      3.0      3.0      3.0  \nTime    69026.0  69034.0  69042.0  69050.0  69058.0  \n\n[3 rows x 124267 columns]",
      "text/html": "<div>\n<style scoped>\n    .dataframe tbody tr th:only-of-type {\n        vertical-align: middle;\n    }\n\n    .dataframe tbody tr th {\n        vertical-align: top;\n    }\n\n    .dataframe thead th {\n        text-align: right;\n    }\n</style>\n<table border=\"1\" class=\"dataframe\">\n  <thead>\n    <tr style=\"text-align: right;\">\n      <th></th>\n      <th>0</th>\n      <th>1</th>\n      <th>2</th>\n      <th>3</th>\n      <th>4</th>\n      <th>5</th>\n      <th>6</th>\n      <th>7</th>\n      <th>8</th>\n      <th>9</th>\n      <th>...</th>\n      <th>124257</th>\n      <th>124258</th>\n      <th>124259</th>\n      <th>124260</th>\n      <th>124261</th>\n      <th>124262</th>\n      <th>124263</th>\n      <th>124264</th>\n      <th>124265</th>\n      <th>124266</th>\n    </tr>\n  </thead>\n  <tbody>\n    <tr>\n      <th>BPM</th>\n      <td>3.59</td>\n      <td>12.48</td>\n      <td>19.71</td>\n      <td>76.82</td>\n      <td>24.97</td>\n      <td>90.77</td>\n      <td>83.22</td>\n      <td>90.77</td>\n      <td>41.01</td>\n      <td>78.84</td>\n      <td>...</td>\n      <td>68.0</td>\n      <td>71.0</td>\n      <td>78.0</td>\n      <td>68.0</td>\n      <td>71.0</td>\n      <td>65.0</td>\n      <td>78.0</td>\n      <td>75.0</td>\n      <td>53.0</td>\n      <td>136.0</td>\n    </tr>\n    <tr>\n      <th>Person</th>\n      <td>1.00</td>\n      <td>1.00</td>\n      <td>1.00</td>\n      <td>1.00</td>\n      <td>1.00</td>\n      <td>1.00</td>\n      <td>1.00</td>\n      <td>1.00</td>\n      <td>1.00</td>\n      <td>1.00</td>\n      <td>...</td>\n      <td>3.0</td>\n      <td>3.0</td>\n      <td>3.0</td>\n      <td>3.0</td>\n      <td>3.0</td>\n      <td>3.0</td>\n      <td>3.0</td>\n      <td>3.0</td>\n      <td>3.0</td>\n      <td>3.0</td>\n    </tr>\n    <tr>\n      <th>Time</th>\n      <td>517.00</td>\n      <td>517.00</td>\n      <td>525.00</td>\n      <td>525.00</td>\n      <td>525.00</td>\n      <td>530.00</td>\n      <td>530.00</td>\n      <td>530.00</td>\n      <td>535.00</td>\n      <td>535.00</td>\n      <td>...</td>\n      <td>68985.0</td>\n      <td>68994.0</td>\n      <td>69002.0</td>\n      <td>69010.0</td>\n      <td>69018.0</td>\n      <td>69026.0</td>\n      <td>69034.0</td>\n      <td>69042.0</td>\n      <td>69050.0</td>\n      <td>69058.0</td>\n    </tr>\n  </tbody>\n</table>\n<p>3 rows × 124267 columns</p>\n</div>"
     },
     "execution_count": 24,
     "metadata": {},
     "output_type": "execute_result"
    }
   ],
   "source": [
    "# Load the cleaned csv then display it\n",
    "data = pd.read_csv(\"cleaned_data.csv\")\n",
    "data.T.head(10)"
   ],
   "metadata": {
    "collapsed": false,
    "ExecuteTime": {
     "end_time": "2024-04-09T13:27:15.060219800Z",
     "start_time": "2024-04-09T13:27:15.003584400Z"
    }
   },
   "id": "e02b25db06725972"
  },
  {
   "cell_type": "code",
   "execution_count": 52,
   "outputs": [],
   "source": [
    "# Set the ranges BPM >= 50 & <= 90.9 and remove the rest\n",
    "combined_df = combined_df[(combined_df['BPM'] >= 50) & (combined_df['BPM'] <= 90.9)]\n",
    "combined_df['State'] = 'Awake'\n",
    "# Asleep = 50 to 75, Awake = 76 to 90.9\n",
    "combined_df.loc[combined_df['BPM'] <= 75, 'State'] = 'Asleep'\n",
    "# Save to a new CSV\n",
    "combined_df.to_csv(\"sleep_data.csv\", index=False)"
   ],
   "metadata": {
    "collapsed": false,
    "ExecuteTime": {
     "end_time": "2024-04-09T14:24:38.036011800Z",
     "start_time": "2024-04-09T14:24:37.916471200Z"
    }
   },
   "id": "7900eaff4b2ad447"
  },
  {
   "cell_type": "code",
   "execution_count": 2,
   "outputs": [
    {
     "data": {
      "text/plain": "        0      1      2      3      4      5      6      7      8      9      \\\nBPM     76.82  90.77  83.22  90.77  78.84  88.11  83.22  80.97  78.84  83.22   \nPerson      1      1      1      1      1      1      1      1      1      1   \nTime      525    530    530    530    535    535    535    541    541    541   \nState   Awake  Awake  Awake  Awake  Awake  Awake  Awake  Awake  Awake  Awake   \n\n        ...   91449   91450   91451  91452   91453   91454   91455  91456  \\\nBPM     ...    65.0    68.0    71.0   78.0    68.0    71.0    65.0   78.0   \nPerson  ...       3       3       3      3       3       3       3      3   \nTime    ...   68969   68985   68994  69002   69010   69018   69026  69034   \nState   ...  Asleep  Asleep  Asleep  Awake  Asleep  Asleep  Asleep  Awake   \n\n         91457   91458  \nBPM       75.0    53.0  \nPerson       3       3  \nTime     69042   69050  \nState   Asleep  Asleep  \n\n[4 rows x 91459 columns]",
      "text/html": "<div>\n<style scoped>\n    .dataframe tbody tr th:only-of-type {\n        vertical-align: middle;\n    }\n\n    .dataframe tbody tr th {\n        vertical-align: top;\n    }\n\n    .dataframe thead th {\n        text-align: right;\n    }\n</style>\n<table border=\"1\" class=\"dataframe\">\n  <thead>\n    <tr style=\"text-align: right;\">\n      <th></th>\n      <th>0</th>\n      <th>1</th>\n      <th>2</th>\n      <th>3</th>\n      <th>4</th>\n      <th>5</th>\n      <th>6</th>\n      <th>7</th>\n      <th>8</th>\n      <th>9</th>\n      <th>...</th>\n      <th>91449</th>\n      <th>91450</th>\n      <th>91451</th>\n      <th>91452</th>\n      <th>91453</th>\n      <th>91454</th>\n      <th>91455</th>\n      <th>91456</th>\n      <th>91457</th>\n      <th>91458</th>\n    </tr>\n  </thead>\n  <tbody>\n    <tr>\n      <th>BPM</th>\n      <td>76.82</td>\n      <td>90.77</td>\n      <td>83.22</td>\n      <td>90.77</td>\n      <td>78.84</td>\n      <td>88.11</td>\n      <td>83.22</td>\n      <td>80.97</td>\n      <td>78.84</td>\n      <td>83.22</td>\n      <td>...</td>\n      <td>65.0</td>\n      <td>68.0</td>\n      <td>71.0</td>\n      <td>78.0</td>\n      <td>68.0</td>\n      <td>71.0</td>\n      <td>65.0</td>\n      <td>78.0</td>\n      <td>75.0</td>\n      <td>53.0</td>\n    </tr>\n    <tr>\n      <th>Person</th>\n      <td>1</td>\n      <td>1</td>\n      <td>1</td>\n      <td>1</td>\n      <td>1</td>\n      <td>1</td>\n      <td>1</td>\n      <td>1</td>\n      <td>1</td>\n      <td>1</td>\n      <td>...</td>\n      <td>3</td>\n      <td>3</td>\n      <td>3</td>\n      <td>3</td>\n      <td>3</td>\n      <td>3</td>\n      <td>3</td>\n      <td>3</td>\n      <td>3</td>\n      <td>3</td>\n    </tr>\n    <tr>\n      <th>Time</th>\n      <td>525</td>\n      <td>530</td>\n      <td>530</td>\n      <td>530</td>\n      <td>535</td>\n      <td>535</td>\n      <td>535</td>\n      <td>541</td>\n      <td>541</td>\n      <td>541</td>\n      <td>...</td>\n      <td>68969</td>\n      <td>68985</td>\n      <td>68994</td>\n      <td>69002</td>\n      <td>69010</td>\n      <td>69018</td>\n      <td>69026</td>\n      <td>69034</td>\n      <td>69042</td>\n      <td>69050</td>\n    </tr>\n    <tr>\n      <th>State</th>\n      <td>Awake</td>\n      <td>Awake</td>\n      <td>Awake</td>\n      <td>Awake</td>\n      <td>Awake</td>\n      <td>Awake</td>\n      <td>Awake</td>\n      <td>Awake</td>\n      <td>Awake</td>\n      <td>Awake</td>\n      <td>...</td>\n      <td>Asleep</td>\n      <td>Asleep</td>\n      <td>Asleep</td>\n      <td>Awake</td>\n      <td>Asleep</td>\n      <td>Asleep</td>\n      <td>Asleep</td>\n      <td>Awake</td>\n      <td>Asleep</td>\n      <td>Asleep</td>\n    </tr>\n  </tbody>\n</table>\n<p>4 rows × 91459 columns</p>\n</div>"
     },
     "execution_count": 2,
     "metadata": {},
     "output_type": "execute_result"
    }
   ],
   "source": [
    "# Load the Sleep Data CSV and Display\n",
    "data = pd.read_csv(\"sleep_data.csv\")\n",
    "data.T.head(10)"
   ],
   "metadata": {
    "collapsed": false,
    "ExecuteTime": {
     "end_time": "2024-04-10T09:40:04.001472100Z",
     "start_time": "2024-04-10T09:40:03.792501300Z"
    }
   },
   "id": "4407fa46dd03014e"
  },
  {
   "cell_type": "code",
   "execution_count": 51,
   "outputs": [
    {
     "data": {
      "text/plain": "                BPM        Person          Time    BPM_change  \\\ncount  91459.000000  91459.000000  91459.000000  91458.000000   \nmean      59.076990      2.017166  27929.021026     -0.000260   \nstd        8.604493      0.397941  14579.430495      5.641549   \nmin       50.000000      1.000000    400.000000    -38.230000   \n25%       53.380000      2.000000  17285.000000     -2.250000   \n50%       56.390000      2.000000  25817.000000      0.000000   \n75%       59.760000      2.000000  34168.000000      2.290000   \nmax       90.770000      3.000000  86270.000000     40.010000   \n\n       BPM_change_threshold  \ncount          91459.000000  \nmean               0.032845  \nstd                0.178233  \nmin                0.000000  \n25%                0.000000  \n50%                0.000000  \n75%                0.000000  \nmax                1.000000  ",
      "text/html": "<div>\n<style scoped>\n    .dataframe tbody tr th:only-of-type {\n        vertical-align: middle;\n    }\n\n    .dataframe tbody tr th {\n        vertical-align: top;\n    }\n\n    .dataframe thead th {\n        text-align: right;\n    }\n</style>\n<table border=\"1\" class=\"dataframe\">\n  <thead>\n    <tr style=\"text-align: right;\">\n      <th></th>\n      <th>BPM</th>\n      <th>Person</th>\n      <th>Time</th>\n      <th>BPM_change</th>\n      <th>BPM_change_threshold</th>\n    </tr>\n  </thead>\n  <tbody>\n    <tr>\n      <th>count</th>\n      <td>91459.000000</td>\n      <td>91459.000000</td>\n      <td>91459.000000</td>\n      <td>91458.000000</td>\n      <td>91459.000000</td>\n    </tr>\n    <tr>\n      <th>mean</th>\n      <td>59.076990</td>\n      <td>2.017166</td>\n      <td>27929.021026</td>\n      <td>-0.000260</td>\n      <td>0.032845</td>\n    </tr>\n    <tr>\n      <th>std</th>\n      <td>8.604493</td>\n      <td>0.397941</td>\n      <td>14579.430495</td>\n      <td>5.641549</td>\n      <td>0.178233</td>\n    </tr>\n    <tr>\n      <th>min</th>\n      <td>50.000000</td>\n      <td>1.000000</td>\n      <td>400.000000</td>\n      <td>-38.230000</td>\n      <td>0.000000</td>\n    </tr>\n    <tr>\n      <th>25%</th>\n      <td>53.380000</td>\n      <td>2.000000</td>\n      <td>17285.000000</td>\n      <td>-2.250000</td>\n      <td>0.000000</td>\n    </tr>\n    <tr>\n      <th>50%</th>\n      <td>56.390000</td>\n      <td>2.000000</td>\n      <td>25817.000000</td>\n      <td>0.000000</td>\n      <td>0.000000</td>\n    </tr>\n    <tr>\n      <th>75%</th>\n      <td>59.760000</td>\n      <td>2.000000</td>\n      <td>34168.000000</td>\n      <td>2.290000</td>\n      <td>0.000000</td>\n    </tr>\n    <tr>\n      <th>max</th>\n      <td>90.770000</td>\n      <td>3.000000</td>\n      <td>86270.000000</td>\n      <td>40.010000</td>\n      <td>1.000000</td>\n    </tr>\n  </tbody>\n</table>\n</div>"
     },
     "execution_count": 51,
     "metadata": {},
     "output_type": "execute_result"
    }
   ],
   "source": [
    "# Descriptive statistics of dataset\n",
    "data.describe()"
   ],
   "metadata": {
    "collapsed": false,
    "ExecuteTime": {
     "end_time": "2024-04-10T11:11:36.641173400Z",
     "start_time": "2024-04-10T11:11:36.541685500Z"
    }
   },
   "id": "b69df80788e6dba4"
  },
  {
   "cell_type": "code",
   "execution_count": 38,
   "outputs": [],
   "source": [
    "#Setting a threshold if (BPM Jump >= 15 = Awake)\n",
    "data['BPM_change'] = data['BPM'].diff()\n",
    "data['BPM_change_threshold'] = data['BPM_change'].apply(lambda x: 1 if abs(x) >= 15 else 0)\n",
    "# Identify consecutive instances where the person is awake after being classified as asleep\n",
    "data['Awake_After_Asleep'] = (data['State'].shift(-1) == 'Awake') & (data['State'] == 'Asleep')\n",
    "\n",
    "# Update the State column to classify the instances as awake if they meet the criteria\n",
    "data.loc[data['Awake_After_Asleep'], 'State'] = 'Awake'\n",
    "\n",
    "# Drop the temporary column\n",
    "data.drop('Awake_After_Asleep', axis=1, inplace=True)"
   ],
   "metadata": {
    "collapsed": false,
    "ExecuteTime": {
     "end_time": "2024-04-10T10:53:51.739536300Z",
     "start_time": "2024-04-10T10:53:51.695510Z"
    }
   },
   "id": "531f32aefe1ebfc5"
  },
  {
   "cell_type": "code",
   "execution_count": 39,
   "outputs": [],
   "source": [
    "# Splitting the Data\n",
    "X = data[['BPM', 'Time', 'BPM_change_threshold']]\n",
    "y = data['State']"
   ],
   "metadata": {
    "collapsed": false,
    "ExecuteTime": {
     "end_time": "2024-04-10T10:53:52.645692Z",
     "start_time": "2024-04-10T10:53:52.637044400Z"
    }
   },
   "id": "297618d4ee007d68"
  },
  {
   "cell_type": "code",
   "execution_count": 40,
   "outputs": [],
   "source": [
    "# Using Label Encoder for \"State\" Variable\n",
    "le = LabelEncoder()\n",
    "y = le.fit_transform(y)"
   ],
   "metadata": {
    "collapsed": false,
    "ExecuteTime": {
     "end_time": "2024-04-10T10:53:54.028655800Z",
     "start_time": "2024-04-10T10:53:54.012949300Z"
    }
   },
   "id": "805d22c0f0224cb5"
  },
  {
   "cell_type": "code",
   "execution_count": 41,
   "outputs": [
    {
     "data": {
      "text/plain": "((73167, 3), (73167,), (18292, 3), (18292,))"
     },
     "execution_count": 41,
     "metadata": {},
     "output_type": "execute_result"
    }
   ],
   "source": [
    "X_train, X_test, y_train, y_test = train_test_split(X, y, test_size=0.2, random_state=42)\n",
    "X_train.shape, y_train.shape, X_test.shape, y_test.shape"
   ],
   "metadata": {
    "collapsed": false,
    "ExecuteTime": {
     "end_time": "2024-04-10T10:53:57.144016600Z",
     "start_time": "2024-04-10T10:53:57.136814600Z"
    }
   },
   "id": "754d6cb20af4f34c"
  },
  {
   "cell_type": "code",
   "execution_count": 42,
   "outputs": [],
   "source": [
    "# Normalize the  data\n",
    "sc = StandardScaler()\n",
    "X_train = sc.fit_transform(X_train)\n",
    "X_test = sc.transform(X_test)"
   ],
   "metadata": {
    "collapsed": false,
    "ExecuteTime": {
     "end_time": "2024-04-10T10:53:58.129652800Z",
     "start_time": "2024-04-10T10:53:58.117587300Z"
    }
   },
   "id": "a96624da92015e3e"
  },
  {
   "cell_type": "markdown",
   "source": [
    "# Logistic Regression"
   ],
   "metadata": {
    "collapsed": false
   },
   "id": "1833695c62214cf7"
  },
  {
   "cell_type": "code",
   "execution_count": 47,
   "outputs": [],
   "source": [
    "# Train Logistic Model\n",
    "lr_model = LogisticRegression()\n",
    "lr_model.fit(X_train, y_train)\n",
    "# Cross validation - Five Folds\n",
    "lr_cv_accuracy = cross_val_score(lr_model, X_train, y_train, cv=5)\n",
    "lr_cv_predictions = cross_val_predict(lr_model, X_train, y_train, cv=5)\n",
    "# Confusion Matrix for Logistic Regression\n",
    "lr_conf_matrix = confusion_matrix(y_train, lr_cv_predictions)"
   ],
   "metadata": {
    "collapsed": false,
    "ExecuteTime": {
     "end_time": "2024-04-10T10:55:35.318971400Z",
     "start_time": "2024-04-10T10:55:34.973517100Z"
    }
   },
   "id": "3488a500af9f0a03"
  },
  {
   "cell_type": "markdown",
   "source": [
    "## Evaluation Metrics"
   ],
   "metadata": {
    "collapsed": false
   },
   "id": "a048e863cc04510b"
  },
  {
   "cell_type": "code",
   "execution_count": 48,
   "outputs": [
    {
     "name": "stdout",
     "output_type": "stream",
     "text": [
      "\n",
      "Classification Report for Logistic Regression:\n",
      "              precision    recall  f1-score   support\n",
      "\n",
      "           0       0.98      0.99      0.98     65541\n",
      "           1       0.89      0.82      0.85      7626\n",
      "\n",
      "    accuracy                           0.97     73167\n",
      "   macro avg       0.93      0.90      0.92     73167\n",
      "weighted avg       0.97      0.97      0.97     73167\n"
     ]
    },
    {
     "data": {
      "text/plain": "<Figure size 800x600 with 1 Axes>",
      "image/png": "[encoded data removed]"
     },
     "metadata": {},
     "output_type": "display_data"
    },
    {
     "name": "stdout",
     "output_type": "stream",
     "text": [
      "\n",
      "Cross-Validation Results for Logistic Regression:\n",
      "Mean Accuracy: 97.05%\n",
      "Standard Deviation: 0.16\n",
      "Accuracy of the model on the test set: 97.20%\n"
     ]
    }
   ],
   "source": [
    "lr_precision = precision_score(y_train, lr_cv_predictions)\n",
    "lr_recall = recall_score(y_train, lr_cv_predictions)\n",
    "lr_f1 = f1_score(y_train, lr_cv_predictions)\n",
    "print(\"\\nClassification Report for Logistic Regression:\")\n",
    "print(classification_report(y_train, lr_cv_predictions))\n",
    "\n",
    "plt.figure(figsize=(8, 6))\n",
    "sns.heatmap(lr_conf_matrix, annot=True, fmt=\"d\", cmap=\"Blues\", cbar=False)\n",
    "plt.title(\"Logistic Regression Confusion Matrix\")\n",
    "plt.xlabel(\"Predicted\")\n",
    "plt.ylabel(\"True\")\n",
    "plt.show()\n",
    "\n",
    "# Cross-validation results\n",
    "print(\"\\nCross-Validation Results for Logistic Regression:\")\n",
    "print(f\"Mean Accuracy: {lr_cv_accuracy.mean()*100:.2f}%\")\n",
    "print(f\"Standard Deviation: {lr_cv_accuracy.std()*100:.2f}\")\n",
    "print(f\"Accuracy of the model on the test set: {lr_model.score(X_test, y_test)*100:.2f}%\")"
   ],
   "metadata": {
    "collapsed": false,
    "ExecuteTime": {
     "end_time": "2024-04-10T10:55:37.169030Z",
     "start_time": "2024-04-10T10:55:36.975092Z"
    }
   },
   "id": "69fdf211f701b1e4"
  },
  {
   "cell_type": "markdown",
   "source": [
    "# Decision Tree Model"
   ],
   "metadata": {
    "collapsed": false
   },
   "id": "dfb254cc244b0a"
  },
  {
   "cell_type": "code",
   "execution_count": 49,
   "outputs": [],
   "source": [
    "# Train the model\n",
    "dt_model = DecisionTreeClassifier()\n",
    "dt_model.fit(X_train, y_train)\n",
    "\n",
    "# Cross-validation\n",
    "dt_cv_accuracy = cross_val_score(dt_model, X_train, y_train, cv=5)\n",
    "dt_cv_predictions = cross_val_predict(dt_model, X_train, y_train, cv=5)\n",
    "\n",
    "# Confusion Matrix\n",
    "dt_conf_matrix = confusion_matrix(y_train, dt_cv_predictions)"
   ],
   "metadata": {
    "collapsed": false,
    "ExecuteTime": {
     "end_time": "2024-04-10T10:55:45.875932500Z",
     "start_time": "2024-04-10T10:55:44.245480800Z"
    }
   },
   "id": "dfa6ff5a2c041a6c"
  },
  {
   "cell_type": "markdown",
   "source": [
    "## Evaluation Metrics"
   ],
   "metadata": {
    "collapsed": false
   },
   "id": "b3d448a572fc8a74"
  },
  {
   "cell_type": "code",
   "execution_count": 50,
   "outputs": [
    {
     "data": {
      "text/plain": "<Figure size 800x600 with 1 Axes>",
      "image/png": "[encoded data removed]"
     },
     "metadata": {},
     "output_type": "display_data"
    },
    {
     "name": "stdout",
     "output_type": "stream",
     "text": [
      "\n",
      "Cross-Validation Results for Decision Tree:\n",
      "Mean Accuracy: 96.58%\n",
      "Standard Deviation: 0.12\n",
      "Accuracy of the model on the test set: 96.69%\n",
      "\n",
      "Classification Report for Decision Tree:\n",
      "              precision    recall  f1-score   support\n",
      "\n",
      "           0       0.98      0.98      0.98     65541\n",
      "           1       0.84      0.83      0.84      7626\n",
      "\n",
      "    accuracy                           0.97     73167\n",
      "   macro avg       0.91      0.90      0.91     73167\n",
      "weighted avg       0.97      0.97      0.97     73167\n"
     ]
    }
   ],
   "source": [
    "dt_precision = precision_score(y_train, dt_cv_predictions)\n",
    "dt_recall = recall_score(y_train, dt_cv_predictions)\n",
    "dt_f1 = f1_score(y_train, dt_cv_predictions)\n",
    "\n",
    "plt.figure(figsize=(8, 6))\n",
    "sns.heatmap(dt_conf_matrix, annot=True, fmt=\"d\", cmap=\"Blues\", cbar=False)\n",
    "plt.title(\"Decision Tree Confusion Matrix\")\n",
    "plt.xlabel(\"Predicted\")\n",
    "plt.ylabel(\"True\")\n",
    "plt.show()\n",
    "\n",
    "# Cross-validation results\n",
    "print(\"\\nCross-Validation Results for Decision Tree:\")\n",
    "print(f\"Mean Accuracy: {dt_cv_accuracy.mean()*100:.2f}%\")\n",
    "print(f\"Standard Deviation: {dt_cv_accuracy.std()*100:.2f}\")\n",
    "print(f\"Accuracy of the model on the test set: {dt_model.score(X_test, y_test)*100:.2f}%\")\n",
    "print(\"\\nClassification Report for Decision Tree:\")\n",
    "print(classification_report(y_train, dt_cv_predictions))"
   ],
   "metadata": {
    "collapsed": false,
    "ExecuteTime": {
     "end_time": "2024-04-10T10:55:46.981094300Z",
     "start_time": "2024-04-10T10:55:46.758374600Z"
    }
   },
   "id": "c09c0d823c0bb449"
  }
 ],
 "metadata": {
  "kernelspec": {
   "display_name": "Python 3",
   "language": "python",
   "name": "python3"
  },
  "language_info": {
   "codemirror_mode": {
    "name": "ipython",
    "version": 2
   },
   "file_extension": ".py",
   "mimetype": "text/x-python",
   "name": "python",
   "nbconvert_exporter": "python",
   "pygments_lexer": "ipython2",
   "version": "2.7.6"
  }
 },
 "nbformat": 4,
 "nbformat_minor": 5
}
