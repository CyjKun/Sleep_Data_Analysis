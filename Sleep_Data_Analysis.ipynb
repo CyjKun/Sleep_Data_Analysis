{
 "cells": [
  {
   "cell_type": "code",
   "execution_count": 71,
   "id": "initial_id",
   "metadata": {
    "collapsed": true,
    "ExecuteTime": {
     "end_time": "2024-04-16T13:11:21.826304300Z",
     "start_time": "2024-04-16T13:11:21.823329100Z"
    }
   },
   "outputs": [],
   "source": [
    "import pandas as pd\n",
    "import matplotlib.pyplot as plt\n",
    "import seaborn as sns\n",
    "import numpy as np \n",
    "import warnings\n",
    "import joblib\n",
    "warnings.filterwarnings(\"ignore\")\n",
    "from sklearn.model_selection import train_test_split, cross_val_predict, cross_val_score\n",
    "from sklearn.preprocessing import StandardScaler, LabelEncoder\n",
    "from sklearn.linear_model import LogisticRegression\n",
    "from sklearn.tree import DecisionTreeClassifier\n",
    "from sklearn.metrics import confusion_matrix, precision_score, recall_score, f1_score, classification_report, accuracy_score"
   ]
  },
  {
   "cell_type": "code",
   "execution_count": 2,
   "outputs": [],
   "source": [
    "# Loading Multiple  CSV\n",
    "csv1 = pd.read_csv(\"Data1.csv\")\n",
    "csv1['Person'] = '1'\n",
    "\n",
    "csv2 = pd.read_csv(\"Data2.csv\")\n",
    "csv2['Person'] = '2'\n",
    "\n",
    "csv3 = pd.read_csv(\"Data3.csv\")\n",
    "csv3['Person'] = '3'\n",
    "\n",
    "# Combine into one DataFrame\n",
    "combined_df = pd.concat([csv1, csv2, csv3], ignore_index=True)\n",
    "\n",
    "# Write to a new CSV file\n",
    "combined_df.to_csv(\"combined_data.csv\", index=False)"
   ],
   "metadata": {
    "collapsed": false,
    "ExecuteTime": {
     "end_time": "2024-04-16T12:22:42.221806800Z",
     "start_time": "2024-04-16T12:22:41.802976300Z"
    }
   },
   "id": "ab6317e696953ccb"
  },
  {
   "cell_type": "markdown",
   "source": [
    "# Preprocessing"
   ],
   "metadata": {
    "collapsed": false
   },
   "id": "20e802479003a1b9"
  },
  {
   "cell_type": "code",
   "execution_count": 3,
   "outputs": [
    {
     "data": {
      "text/plain": "                                  0                                 1       \\\nID                  -NtRbm_DcFo4HGfcZkay              -NtRbo1VIt2ERLbqS0Hf   \nBPM                                 3.59                             12.48   \nDate    Thursday,-March-21-2024-00:08:37  Thursday,-March-21-2024-00:08:37   \nPerson                                 1                                 1   \n\n                                  2                                 3       \\\nID                  -NtRboLy4M2_SDxFFX5L              -NtRbp-ib_C7bf5Y7enP   \nBPM                                19.71                             76.82   \nDate    Thursday,-March-21-2024-00:08:45  Thursday,-March-21-2024-00:08:45   \nPerson                                 1                                 1   \n\n                                  4                                 5       \\\nID                  -NtRbpI-9VoKY9uMQRfq              -NtRbpcNu9jEculqeSW2   \nBPM                                24.97                             90.77   \nDate    Thursday,-March-21-2024-00:08:45  Thursday,-March-21-2024-00:08:50   \nPerson                                 1                                 1   \n\n                                  6                                 7       \\\nID                  -NtRbpzQTip1l6bTCwSD              -NtRbqJcUDI7Yd1K94L_   \nBPM                                83.22                             90.77   \nDate    Thursday,-March-21-2024-00:08:50  Thursday,-March-21-2024-00:08:50   \nPerson                                 1                                 1   \n\n                                  8                                 9       \\\nID                  -NtRbqqD8zf_KeMknrFf              -NtRbrBzW6z3l0_8q3lx   \nBPM                                41.01                             78.84   \nDate    Thursday,-March-21-2024-00:08:55  Thursday,-March-21-2024-00:08:55   \nPerson                                 1                                 1   \n\n        ...                          124324                          124325  \\\nID      ...            -Nu8tiME6dl5ISK6NOCw            -Nu8tkF8EzSzR5alxTJQ   \nBPM     ...                            68.0                            71.0   \nDate    ...  Friday,-March-29-2024-19:09:45  Friday,-March-29-2024-19:09:54   \nPerson  ...                               3                               3   \n\n                                124326                          124327  \\\nID                -Nu8tmCCDRaLDzCQL-yY            -Nu8to9IdMXkDs4FyKu7   \nBPM                               78.0                            68.0   \nDate    Friday,-March-29-2024-19:10:02  Friday,-March-29-2024-19:10:10   \nPerson                               3                               3   \n\n                                124328                          124329  \\\nID                -Nu8tq6Nn9EO7dHfOTdp            -Nu8ts3Um4Fj1NWOPzmX   \nBPM                               71.0                            65.0   \nDate    Friday,-March-29-2024-19:10:18  Friday,-March-29-2024-19:10:26   \nPerson                               3                               3   \n\n                                124330                          124331  \\\nID                -Nu8tu0TRXBdjyqRRtEJ            -Nu8tvyZX-3PEqBFZX_R   \nBPM                               78.0                            75.0   \nDate    Friday,-March-29-2024-19:10:34  Friday,-March-29-2024-19:10:42   \nPerson                               3                               3   \n\n                                124332                          124333  \nID                -Nu8txvcHcPneDSBxf3z            -Nu8tzshPyqr95_8nJZO  \nBPM                               53.0                           136.0  \nDate    Friday,-March-29-2024-19:10:50  Friday,-March-29-2024-19:10:58  \nPerson                               3                               3  \n\n[4 rows x 124334 columns]",
      "text/html": "<div>\n<style scoped>\n    .dataframe tbody tr th:only-of-type {\n        vertical-align: middle;\n    }\n\n    .dataframe tbody tr th {\n        vertical-align: top;\n    }\n\n    .dataframe thead th {\n        text-align: right;\n    }\n</style>\n<table border=\"1\" class=\"dataframe\">\n  <thead>\n    <tr style=\"text-align: right;\">\n      <th></th>\n      <th>0</th>\n      <th>1</th>\n      <th>2</th>\n      <th>3</th>\n      <th>4</th>\n      <th>5</th>\n      <th>6</th>\n      <th>7</th>\n      <th>8</th>\n      <th>9</th>\n      <th>...</th>\n      <th>124324</th>\n      <th>124325</th>\n      <th>124326</th>\n      <th>124327</th>\n      <th>124328</th>\n      <th>124329</th>\n      <th>124330</th>\n      <th>124331</th>\n      <th>124332</th>\n      <th>124333</th>\n    </tr>\n  </thead>\n  <tbody>\n    <tr>\n      <th>ID</th>\n      <td>-NtRbm_DcFo4HGfcZkay</td>\n      <td>-NtRbo1VIt2ERLbqS0Hf</td>\n      <td>-NtRboLy4M2_SDxFFX5L</td>\n      <td>-NtRbp-ib_C7bf5Y7enP</td>\n      <td>-NtRbpI-9VoKY9uMQRfq</td>\n      <td>-NtRbpcNu9jEculqeSW2</td>\n      <td>-NtRbpzQTip1l6bTCwSD</td>\n      <td>-NtRbqJcUDI7Yd1K94L_</td>\n      <td>-NtRbqqD8zf_KeMknrFf</td>\n      <td>-NtRbrBzW6z3l0_8q3lx</td>\n      <td>...</td>\n      <td>-Nu8tiME6dl5ISK6NOCw</td>\n      <td>-Nu8tkF8EzSzR5alxTJQ</td>\n      <td>-Nu8tmCCDRaLDzCQL-yY</td>\n      <td>-Nu8to9IdMXkDs4FyKu7</td>\n      <td>-Nu8tq6Nn9EO7dHfOTdp</td>\n      <td>-Nu8ts3Um4Fj1NWOPzmX</td>\n      <td>-Nu8tu0TRXBdjyqRRtEJ</td>\n      <td>-Nu8tvyZX-3PEqBFZX_R</td>\n      <td>-Nu8txvcHcPneDSBxf3z</td>\n      <td>-Nu8tzshPyqr95_8nJZO</td>\n    </tr>\n    <tr>\n      <th>BPM</th>\n      <td>3.59</td>\n      <td>12.48</td>\n      <td>19.71</td>\n      <td>76.82</td>\n      <td>24.97</td>\n      <td>90.77</td>\n      <td>83.22</td>\n      <td>90.77</td>\n      <td>41.01</td>\n      <td>78.84</td>\n      <td>...</td>\n      <td>68.0</td>\n      <td>71.0</td>\n      <td>78.0</td>\n      <td>68.0</td>\n      <td>71.0</td>\n      <td>65.0</td>\n      <td>78.0</td>\n      <td>75.0</td>\n      <td>53.0</td>\n      <td>136.0</td>\n    </tr>\n    <tr>\n      <th>Date</th>\n      <td>Thursday,-March-21-2024-00:08:37</td>\n      <td>Thursday,-March-21-2024-00:08:37</td>\n      <td>Thursday,-March-21-2024-00:08:45</td>\n      <td>Thursday,-March-21-2024-00:08:45</td>\n      <td>Thursday,-March-21-2024-00:08:45</td>\n      <td>Thursday,-March-21-2024-00:08:50</td>\n      <td>Thursday,-March-21-2024-00:08:50</td>\n      <td>Thursday,-March-21-2024-00:08:50</td>\n      <td>Thursday,-March-21-2024-00:08:55</td>\n      <td>Thursday,-March-21-2024-00:08:55</td>\n      <td>...</td>\n      <td>Friday,-March-29-2024-19:09:45</td>\n      <td>Friday,-March-29-2024-19:09:54</td>\n      <td>Friday,-March-29-2024-19:10:02</td>\n      <td>Friday,-March-29-2024-19:10:10</td>\n      <td>Friday,-March-29-2024-19:10:18</td>\n      <td>Friday,-March-29-2024-19:10:26</td>\n      <td>Friday,-March-29-2024-19:10:34</td>\n      <td>Friday,-March-29-2024-19:10:42</td>\n      <td>Friday,-March-29-2024-19:10:50</td>\n      <td>Friday,-March-29-2024-19:10:58</td>\n    </tr>\n    <tr>\n      <th>Person</th>\n      <td>1</td>\n      <td>1</td>\n      <td>1</td>\n      <td>1</td>\n      <td>1</td>\n      <td>1</td>\n      <td>1</td>\n      <td>1</td>\n      <td>1</td>\n      <td>1</td>\n      <td>...</td>\n      <td>3</td>\n      <td>3</td>\n      <td>3</td>\n      <td>3</td>\n      <td>3</td>\n      <td>3</td>\n      <td>3</td>\n      <td>3</td>\n      <td>3</td>\n      <td>3</td>\n    </tr>\n  </tbody>\n</table>\n<p>4 rows × 124334 columns</p>\n</div>"
     },
     "execution_count": 3,
     "metadata": {},
     "output_type": "execute_result"
    }
   ],
   "source": [
    "#Load and Display Combined Data\n",
    "data = pd.read_csv(\"combined_data.csv\")\n",
    "data.T.head(10)"
   ],
   "metadata": {
    "collapsed": false,
    "ExecuteTime": {
     "end_time": "2024-04-16T12:22:43.333019400Z",
     "start_time": "2024-04-16T12:22:43.138069100Z"
    }
   },
   "id": "61e0e0df32ac3971"
  },
  {
   "cell_type": "code",
   "execution_count": 4,
   "outputs": [],
   "source": [
    "# Drop the date column and keep only the time from the 'Date' column\n",
    "combined_df['Time'] = pd.to_datetime(combined_df['Date']).dt.time\n",
    "# Drop the 'ID' and 'Date' columns from the DataFrame\n",
    "combined_df.drop(['ID', 'Date'], axis=1, inplace=True)\n",
    "# Remove any rows with missing values\n",
    "combined_df.dropna(inplace=True)\n",
    "# Convert the time to seconds\n",
    "combined_df['Time'] = combined_df['Time'].apply(lambda x: x.hour * 3600 + x.minute * 60 + x.second)\n",
    "# Save the cleaned DataFrame to a new CSV file\n",
    "combined_df.to_csv(\"cleaned_data.csv\", index=False)"
   ],
   "metadata": {
    "collapsed": false,
    "ExecuteTime": {
     "end_time": "2024-04-16T12:23:02.838863300Z",
     "start_time": "2024-04-16T12:23:02.594619100Z"
    }
   },
   "id": "44de10425afd95e2"
  },
  {
   "cell_type": "code",
   "execution_count": 5,
   "outputs": [
    {
     "data": {
      "text/plain": "       0      1      2      3      4      5      6      7      8      9   ...  \\\nBPM  3.59  12.48  19.71  76.82  24.97  90.77  83.22  90.77  41.01  78.84  ...   \n\n         90     91     92     93     94     95     96     97     98     99  \nBPM  142.52  22.19  27.24  55.45  46.08  45.35  99.83  18.38  30.26  29.37  \n\n[1 rows x 100 columns]",
      "text/html": "<div>\n<style scoped>\n    .dataframe tbody tr th:only-of-type {\n        vertical-align: middle;\n    }\n\n    .dataframe tbody tr th {\n        vertical-align: top;\n    }\n\n    .dataframe thead th {\n        text-align: right;\n    }\n</style>\n<table border=\"1\" class=\"dataframe\">\n  <thead>\n    <tr style=\"text-align: right;\">\n      <th></th>\n      <th>0</th>\n      <th>1</th>\n      <th>2</th>\n      <th>3</th>\n      <th>4</th>\n      <th>5</th>\n      <th>6</th>\n      <th>7</th>\n      <th>8</th>\n      <th>9</th>\n      <th>...</th>\n      <th>90</th>\n      <th>91</th>\n      <th>92</th>\n      <th>93</th>\n      <th>94</th>\n      <th>95</th>\n      <th>96</th>\n      <th>97</th>\n      <th>98</th>\n      <th>99</th>\n    </tr>\n  </thead>\n  <tbody>\n    <tr>\n      <th>BPM</th>\n      <td>3.59</td>\n      <td>12.48</td>\n      <td>19.71</td>\n      <td>76.82</td>\n      <td>24.97</td>\n      <td>90.77</td>\n      <td>83.22</td>\n      <td>90.77</td>\n      <td>41.01</td>\n      <td>78.84</td>\n      <td>...</td>\n      <td>142.52</td>\n      <td>22.19</td>\n      <td>27.24</td>\n      <td>55.45</td>\n      <td>46.08</td>\n      <td>45.35</td>\n      <td>99.83</td>\n      <td>18.38</td>\n      <td>30.26</td>\n      <td>29.37</td>\n    </tr>\n  </tbody>\n</table>\n<p>1 rows × 100 columns</p>\n</div>"
     },
     "execution_count": 5,
     "metadata": {},
     "output_type": "execute_result"
    }
   ],
   "source": [
    "# Load the cleaned csv then display it\n",
    "data = pd.read_csv(\"cleaned_data.csv\")\n",
    "data[['BPM']].head(100).T"
   ],
   "metadata": {
    "collapsed": false,
    "ExecuteTime": {
     "end_time": "2024-04-16T12:24:17.601663400Z",
     "start_time": "2024-04-16T12:24:17.556094500Z"
    }
   },
   "id": "e02b25db06725972"
  },
  {
   "cell_type": "code",
   "execution_count": 6,
   "outputs": [],
   "source": [
    "# Set the ranges BPM >= 50 & <= 90.9 and remove the rest\n",
    "bpm_ranges = [(50, 60, 'Asleep'), (61, 90.9, 'Awake')]\n",
    "combined_df = combined_df[(combined_df['BPM'] >= 50) & (combined_df['BPM'] <= 90.9)]\n",
    "# Categorize 'State' based on BPM range\n",
    "combined_df['State'] = pd.cut(combined_df['BPM'], bins=[r[0] for r in bpm_ranges] + [bpm_ranges[-1][1]], right=False, labels=[r[2] for r in bpm_ranges])\n",
    "# Save to a new CSV\n",
    "combined_df.to_csv(\"sleep_data.csv\", index=False)"
   ],
   "metadata": {
    "collapsed": false,
    "ExecuteTime": {
     "end_time": "2024-04-16T12:24:18.878392900Z",
     "start_time": "2024-04-16T12:24:18.763669300Z"
    }
   },
   "id": "7900eaff4b2ad447"
  },
  {
   "cell_type": "code",
   "execution_count": 57,
   "outputs": [],
   "source": [
    "# Handles instances where there's continuous Awake and encounters a single instance of Asleep (Vice Versa)\n",
    "def consolidate_states(states):\n",
    "    consolidated_states = []\n",
    "    current_state = None\n",
    "    consecutive_count = 0\n",
    "    \n",
    "    for state in states:\n",
    "        if state == current_state:\n",
    "            consecutive_count += 1\n",
    "        else:\n",
    "            if current_state is not None:\n",
    "                if consecutive_count > 1:\n",
    "                    consolidated_states.extend([current_state] * consecutive_count)\n",
    "                else:\n",
    "                    consolidated_states.append(current_state)\n",
    "            \n",
    "            current_state = state\n",
    "            consecutive_count = 1\n",
    "    \n",
    "    if current_state is not None:\n",
    "        if consecutive_count > 1:\n",
    "            consolidated_states.extend([current_state] * consecutive_count)\n",
    "        else:\n",
    "            consolidated_states.append(current_state)\n",
    "    \n",
    "    # Update singular occurrences based on surrounding states\n",
    "    for i in range(1, len(consolidated_states) - 1):\n",
    "        if consolidated_states[i] == \"Asleep\" and consolidated_states[i-1] == consolidated_states[i+1] == \"Awake\":\n",
    "            consolidated_states[i] = \"Awake\"\n",
    "        elif consolidated_states[i] == \"Awake\" and consolidated_states[i-1] == consolidated_states[i+1] == \"Asleep\":\n",
    "            consolidated_states[i] = \"Asleep\"\n",
    "    \n",
    "    return consolidated_states"
   ],
   "metadata": {
    "collapsed": false,
    "ExecuteTime": {
     "end_time": "2024-04-16T13:07:23.597017700Z",
     "start_time": "2024-04-16T13:07:23.590527Z"
    }
   },
   "id": "19186fe856a3f24f"
  },
  {
   "cell_type": "code",
   "execution_count": 58,
   "outputs": [
    {
     "data": {
      "text/plain": "          0      1      2      3      4      5      6      7      8      9   \\\nBPM    76.82  90.77  83.22  90.77  78.84  88.11  83.22  80.97  78.84  83.22   \nState  Awake  Awake  Awake  Awake  Awake  Awake  Awake  Awake  Awake  Awake   \n\n       ...     90     91     92     93      94      95     96     97     98  \\\nBPM    ...   68.1  69.69  65.15  90.77   52.54   53.52  88.11  85.59  80.97   \nState  ...  Awake  Awake  Awake  Awake  Asleep  Asleep  Awake  Awake  Awake   \n\n          99  \nBPM    78.74  \nState  Awake  \n\n[2 rows x 100 columns]",
      "text/html": "<div>\n<style scoped>\n    .dataframe tbody tr th:only-of-type {\n        vertical-align: middle;\n    }\n\n    .dataframe tbody tr th {\n        vertical-align: top;\n    }\n\n    .dataframe thead th {\n        text-align: right;\n    }\n</style>\n<table border=\"1\" class=\"dataframe\">\n  <thead>\n    <tr style=\"text-align: right;\">\n      <th></th>\n      <th>0</th>\n      <th>1</th>\n      <th>2</th>\n      <th>3</th>\n      <th>4</th>\n      <th>5</th>\n      <th>6</th>\n      <th>7</th>\n      <th>8</th>\n      <th>9</th>\n      <th>...</th>\n      <th>90</th>\n      <th>91</th>\n      <th>92</th>\n      <th>93</th>\n      <th>94</th>\n      <th>95</th>\n      <th>96</th>\n      <th>97</th>\n      <th>98</th>\n      <th>99</th>\n    </tr>\n  </thead>\n  <tbody>\n    <tr>\n      <th>BPM</th>\n      <td>76.82</td>\n      <td>90.77</td>\n      <td>83.22</td>\n      <td>90.77</td>\n      <td>78.84</td>\n      <td>88.11</td>\n      <td>83.22</td>\n      <td>80.97</td>\n      <td>78.84</td>\n      <td>83.22</td>\n      <td>...</td>\n      <td>68.1</td>\n      <td>69.69</td>\n      <td>65.15</td>\n      <td>90.77</td>\n      <td>52.54</td>\n      <td>53.52</td>\n      <td>88.11</td>\n      <td>85.59</td>\n      <td>80.97</td>\n      <td>78.74</td>\n    </tr>\n    <tr>\n      <th>State</th>\n      <td>Awake</td>\n      <td>Awake</td>\n      <td>Awake</td>\n      <td>Awake</td>\n      <td>Awake</td>\n      <td>Awake</td>\n      <td>Awake</td>\n      <td>Awake</td>\n      <td>Awake</td>\n      <td>Awake</td>\n      <td>...</td>\n      <td>Awake</td>\n      <td>Awake</td>\n      <td>Awake</td>\n      <td>Awake</td>\n      <td>Asleep</td>\n      <td>Asleep</td>\n      <td>Awake</td>\n      <td>Awake</td>\n      <td>Awake</td>\n      <td>Awake</td>\n    </tr>\n  </tbody>\n</table>\n<p>2 rows × 100 columns</p>\n</div>"
     },
     "execution_count": 58,
     "metadata": {},
     "output_type": "execute_result"
    }
   ],
   "source": [
    "# Load the Sleep Data CSV and Display\n",
    "data = pd.read_csv(\"sleep_data.csv\")\n",
    "data[['BPM', 'State']].head(100).T"
   ],
   "metadata": {
    "collapsed": false,
    "ExecuteTime": {
     "end_time": "2024-04-16T13:07:25.247866100Z",
     "start_time": "2024-04-16T13:07:25.206159300Z"
    }
   },
   "id": "4407fa46dd03014e"
  },
  {
   "cell_type": "code",
   "execution_count": 59,
   "outputs": [
    {
     "data": {
      "text/plain": "                BPM        Person          Time\ncount  91459.000000  91459.000000  91459.000000\nmean      59.076990      2.017166  27929.021026\nstd        8.604493      0.397941  14579.430495\nmin       50.000000      1.000000    400.000000\n25%       53.380000      2.000000  17285.000000\n50%       56.390000      2.000000  25817.000000\n75%       59.760000      2.000000  34168.000000\nmax       90.770000      3.000000  86270.000000",
      "text/html": "<div>\n<style scoped>\n    .dataframe tbody tr th:only-of-type {\n        vertical-align: middle;\n    }\n\n    .dataframe tbody tr th {\n        vertical-align: top;\n    }\n\n    .dataframe thead th {\n        text-align: right;\n    }\n</style>\n<table border=\"1\" class=\"dataframe\">\n  <thead>\n    <tr style=\"text-align: right;\">\n      <th></th>\n      <th>BPM</th>\n      <th>Person</th>\n      <th>Time</th>\n    </tr>\n  </thead>\n  <tbody>\n    <tr>\n      <th>count</th>\n      <td>91459.000000</td>\n      <td>91459.000000</td>\n      <td>91459.000000</td>\n    </tr>\n    <tr>\n      <th>mean</th>\n      <td>59.076990</td>\n      <td>2.017166</td>\n      <td>27929.021026</td>\n    </tr>\n    <tr>\n      <th>std</th>\n      <td>8.604493</td>\n      <td>0.397941</td>\n      <td>14579.430495</td>\n    </tr>\n    <tr>\n      <th>min</th>\n      <td>50.000000</td>\n      <td>1.000000</td>\n      <td>400.000000</td>\n    </tr>\n    <tr>\n      <th>25%</th>\n      <td>53.380000</td>\n      <td>2.000000</td>\n      <td>17285.000000</td>\n    </tr>\n    <tr>\n      <th>50%</th>\n      <td>56.390000</td>\n      <td>2.000000</td>\n      <td>25817.000000</td>\n    </tr>\n    <tr>\n      <th>75%</th>\n      <td>59.760000</td>\n      <td>2.000000</td>\n      <td>34168.000000</td>\n    </tr>\n    <tr>\n      <th>max</th>\n      <td>90.770000</td>\n      <td>3.000000</td>\n      <td>86270.000000</td>\n    </tr>\n  </tbody>\n</table>\n</div>"
     },
     "execution_count": 59,
     "metadata": {},
     "output_type": "execute_result"
    }
   ],
   "source": [
    "# Descriptive statistics of dataset\n",
    "data.describe()"
   ],
   "metadata": {
    "collapsed": false,
    "ExecuteTime": {
     "end_time": "2024-04-16T13:07:26.149136300Z",
     "start_time": "2024-04-16T13:07:26.133290Z"
    }
   },
   "id": "b69df80788e6dba4"
  },
  {
   "cell_type": "code",
   "execution_count": 63,
   "outputs": [],
   "source": [
    "# Splitting the Data\n",
    "X = data[['BPM']]\n",
    "y = data['State']"
   ],
   "metadata": {
    "collapsed": false,
    "ExecuteTime": {
     "end_time": "2024-04-16T13:09:43.984970500Z",
     "start_time": "2024-04-16T13:09:43.982993600Z"
    }
   },
   "id": "297618d4ee007d68"
  },
  {
   "cell_type": "code",
   "execution_count": 64,
   "outputs": [],
   "source": [
    "# Consolidate states\n",
    "consolidated_y = consolidate_states(y)"
   ],
   "metadata": {
    "collapsed": false,
    "ExecuteTime": {
     "end_time": "2024-04-16T13:09:44.698284400Z",
     "start_time": "2024-04-16T13:09:44.676071600Z"
    }
   },
   "id": "5f9a24c5447e30c8"
  },
  {
   "cell_type": "code",
   "execution_count": 65,
   "outputs": [],
   "source": [
    "# Save consolidated states to a CSV file\n",
    "consolidated_data = pd.DataFrame({'BPM': X['BPM'], 'States': consolidated_y})\n",
    "consolidated_data.to_csv('modified_states.csv', index=False)"
   ],
   "metadata": {
    "collapsed": false,
    "ExecuteTime": {
     "end_time": "2024-04-16T13:09:45.186672700Z",
     "start_time": "2024-04-16T13:09:45.105993400Z"
    }
   },
   "id": "7943e3e34f985bf3"
  },
  {
   "cell_type": "code",
   "execution_count": 66,
   "outputs": [],
   "source": [
    "# Using Label Encoder for \"State\" Variable\n",
    "le = LabelEncoder()\n",
    "y = le.fit_transform(consolidated_y)"
   ],
   "metadata": {
    "collapsed": false,
    "ExecuteTime": {
     "end_time": "2024-04-16T13:09:46.261153400Z",
     "start_time": "2024-04-16T13:09:46.188402Z"
    }
   },
   "id": "805d22c0f0224cb5"
  },
  {
   "cell_type": "code",
   "execution_count": 67,
   "outputs": [
    {
     "data": {
      "text/plain": "((73167, 1), (73167,), (18292, 1), (18292,))"
     },
     "execution_count": 67,
     "metadata": {},
     "output_type": "execute_result"
    }
   ],
   "source": [
    "X_train, X_test, y_train, y_test = train_test_split(X, y, test_size=0.2, random_state=42)\n",
    "X_train.shape, y_train.shape, X_test.shape, y_test.shape"
   ],
   "metadata": {
    "collapsed": false,
    "ExecuteTime": {
     "end_time": "2024-04-16T13:09:46.769869500Z",
     "start_time": "2024-04-16T13:09:46.760927700Z"
    }
   },
   "id": "754d6cb20af4f34c"
  },
  {
   "cell_type": "code",
   "execution_count": 68,
   "outputs": [],
   "source": [
    "# Normalize the  data\n",
    "sc = StandardScaler()\n",
    "X_train = sc.fit_transform(X_train)\n",
    "X_test = sc.transform(X_test)"
   ],
   "metadata": {
    "collapsed": false,
    "ExecuteTime": {
     "end_time": "2024-04-16T13:09:47.725173900Z",
     "start_time": "2024-04-16T13:09:47.717481600Z"
    }
   },
   "id": "a96624da92015e3e"
  },
  {
   "cell_type": "markdown",
   "source": [
    "# Logistic Regression"
   ],
   "metadata": {
    "collapsed": false
   },
   "id": "1833695c62214cf7"
  },
  {
   "cell_type": "code",
   "execution_count": 69,
   "outputs": [],
   "source": [
    "# Train Logistic Model\n",
    "lr_model = LogisticRegression()\n",
    "lr_model.fit(X_train, y_train)\n",
    "# Cross validation - Five Folds\n",
    "lr_cv_accuracy = cross_val_score(lr_model, X_train, y_train, cv=5)\n",
    "lr_cv_predictions = cross_val_predict(lr_model, X_train, y_train, cv=5)\n",
    "# Confusion Matrix for Logistic Regression\n",
    "lr_conf_matrix = confusion_matrix(y_train, lr_cv_predictions)"
   ],
   "metadata": {
    "collapsed": false,
    "ExecuteTime": {
     "end_time": "2024-04-16T13:09:49.561650200Z",
     "start_time": "2024-04-16T13:09:49.259874900Z"
    }
   },
   "id": "3488a500af9f0a03"
  },
  {
   "cell_type": "markdown",
   "source": [
    "## Evaluation Metrics"
   ],
   "metadata": {
    "collapsed": false
   },
   "id": "a048e863cc04510b"
  },
  {
   "cell_type": "code",
   "execution_count": 70,
   "outputs": [
    {
     "name": "stdout",
     "output_type": "stream",
     "text": [
      "\n",
      "Classification Report for Logistic Regression:\n",
      "              precision    recall  f1-score   support\n",
      "\n",
      "           0       0.97      0.98      0.97     59350\n",
      "           1       0.92      0.86      0.89     13817\n",
      "\n",
      "    accuracy                           0.96     73167\n",
      "   macro avg       0.94      0.92      0.93     73167\n",
      "weighted avg       0.96      0.96      0.96     73167\n"
     ]
    },
    {
     "data": {
      "text/plain": "<Figure size 800x600 with 1 Axes>",
      "image/png": "[encoded data removed]"
     },
     "metadata": {},
     "output_type": "display_data"
    },
    {
     "name": "stdout",
     "output_type": "stream",
     "text": [
      "\n",
      "Cross-Validation Results for Logistic Regression:\n",
      "Mean Accuracy: 95.85%\n",
      "Standard Deviation: 0.12\n",
      "Accuracy of the model on the test set: 95.65%\n"
     ]
    }
   ],
   "source": [
    "lr_precision = precision_score(y_train, lr_cv_predictions)\n",
    "lr_recall = recall_score(y_train, lr_cv_predictions)\n",
    "lr_f1 = f1_score(y_train, lr_cv_predictions)\n",
    "print(\"\\nClassification Report for Logistic Regression:\")\n",
    "print(classification_report(y_train, lr_cv_predictions))\n",
    "\n",
    "plt.figure(figsize=(8, 6))\n",
    "sns.heatmap(lr_conf_matrix, annot=True, fmt=\"d\", cmap=\"Blues\", cbar=False)\n",
    "plt.title(\"Logistic Regression Confusion Matrix\")\n",
    "plt.xlabel(\"Predicted\")\n",
    "plt.ylabel(\"True\")\n",
    "plt.show()\n",
    "\n",
    "# Cross-validation results\n",
    "print(\"\\nCross-Validation Results for Logistic Regression:\")\n",
    "print(f\"Mean Accuracy: {lr_cv_accuracy.mean()*100:.2f}%\")\n",
    "print(f\"Standard Deviation: {lr_cv_accuracy.std()*100:.2f}\")\n",
    "print(f\"Accuracy of the model on the test set: {lr_model.score(X_test, y_test)*100:.2f}%\")"
   ],
   "metadata": {
    "collapsed": false,
    "ExecuteTime": {
     "end_time": "2024-04-16T13:09:51.382012700Z",
     "start_time": "2024-04-16T13:09:51.119048700Z"
    }
   },
   "id": "69fdf211f701b1e4"
  },
  {
   "cell_type": "markdown",
   "source": [
    "# Decision Tree Model"
   ],
   "metadata": {
    "collapsed": false
   },
   "id": "dfb254cc244b0a"
  },
  {
   "cell_type": "code",
   "execution_count": 25,
   "outputs": [],
   "source": [
    "# Train the model\n",
    "dt_model = DecisionTreeClassifier()\n",
    "dt_model.fit(X_train, y_train)\n",
    "\n",
    "# Cross-validation\n",
    "dt_cv_accuracy = cross_val_score(dt_model, X_train, y_train, cv=5)\n",
    "dt_cv_predictions = cross_val_predict(dt_model, X_train, y_train, cv=5)\n",
    "\n",
    "# Confusion Matrix\n",
    "dt_conf_matrix = confusion_matrix(y_train, dt_cv_predictions)"
   ],
   "metadata": {
    "collapsed": false,
    "ExecuteTime": {
     "end_time": "2024-04-16T10:36:59.100947100Z",
     "start_time": "2024-04-16T10:36:58.747407500Z"
    }
   },
   "id": "dfa6ff5a2c041a6c"
  },
  {
   "cell_type": "markdown",
   "source": [
    "## Evaluation Metrics"
   ],
   "metadata": {
    "collapsed": false
   },
   "id": "b3d448a572fc8a74"
  },
  {
   "cell_type": "code",
   "execution_count": 26,
   "outputs": [
    {
     "data": {
      "text/plain": "<Figure size 800x600 with 1 Axes>",
      "image/png": "[encoded data removed]"
     },
     "metadata": {},
     "output_type": "display_data"
    },
    {
     "name": "stdout",
     "output_type": "stream",
     "text": [
      "\n",
      "Cross-Validation Results for Decision Tree:\n",
      "Mean Accuracy: 82.58%\n",
      "Standard Deviation: 0.19\n",
      "Accuracy of the model on the test set: 82.97%\n",
      "\n",
      "Classification Report for Decision Tree:\n",
      "              precision    recall  f1-score   support\n",
      "\n",
      "           0       0.83      0.98      0.90     58531\n",
      "           1       0.71      0.22      0.34     14636\n",
      "\n",
      "    accuracy                           0.83     73167\n",
      "   macro avg       0.77      0.60      0.62     73167\n",
      "weighted avg       0.81      0.83      0.79     73167\n"
     ]
    }
   ],
   "source": [
    "dt_precision = precision_score(y_train, dt_cv_predictions)\n",
    "dt_recall = recall_score(y_train, dt_cv_predictions)\n",
    "dt_f1 = f1_score(y_train, dt_cv_predictions)\n",
    "\n",
    "plt.figure(figsize=(8, 6))\n",
    "sns.heatmap(dt_conf_matrix, annot=True, fmt=\"d\", cmap=\"Blues\", cbar=False)\n",
    "plt.title(\"Decision Tree Confusion Matrix\")\n",
    "plt.xlabel(\"Predicted\")\n",
    "plt.ylabel(\"True\")\n",
    "plt.show()\n",
    "\n",
    "# Cross-validation results\n",
    "print(\"\\nCross-Validation Results for Decision Tree:\")\n",
    "print(f\"Mean Accuracy: {dt_cv_accuracy.mean()*100:.2f}%\")\n",
    "print(f\"Standard Deviation: {dt_cv_accuracy.std()*100:.2f}\")\n",
    "print(f\"Accuracy of the model on the test set: {dt_model.score(X_test, y_test)*100:.2f}%\")\n",
    "print(\"\\nClassification Report for Decision Tree:\")\n",
    "print(classification_report(y_train, dt_cv_predictions))"
   ],
   "metadata": {
    "collapsed": false,
    "ExecuteTime": {
     "end_time": "2024-04-16T10:37:00.514565200Z",
     "start_time": "2024-04-16T10:37:00.248288200Z"
    }
   },
   "id": "c09c0d823c0bb449"
  },
  {
   "cell_type": "markdown",
   "source": [
    "# Saving The Trained  LR Model"
   ],
   "metadata": {
    "collapsed": false
   },
   "id": "4464e681d9e059c0"
  },
  {
   "cell_type": "code",
   "execution_count": 73,
   "outputs": [
    {
     "data": {
      "text/plain": "['lr_model.pkl']"
     },
     "execution_count": 73,
     "metadata": {},
     "output_type": "execute_result"
    }
   ],
   "source": [
    "joblib.dump(lr_model, 'lr_model.pkl')"
   ],
   "metadata": {
    "collapsed": false,
    "ExecuteTime": {
     "end_time": "2024-04-16T13:12:35.950540100Z",
     "start_time": "2024-04-16T13:12:35.940039600Z"
    }
   },
   "id": "b2c067ff35e00994"
  }
 ],
 "metadata": {
  "kernelspec": {
   "display_name": "Python 3",
   "language": "python",
   "name": "python3"
  },
  "language_info": {
   "codemirror_mode": {
    "name": "ipython",
    "version": 2
   },
   "file_extension": ".py",
   "mimetype": "text/x-python",
   "name": "python",
   "nbconvert_exporter": "python",
   "pygments_lexer": "ipython2",
   "version": "2.7.6"
  }
 },
 "nbformat": 4,
 "nbformat_minor": 5
}
