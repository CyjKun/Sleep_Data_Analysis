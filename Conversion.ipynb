{
 "cells": [
  {
   "cell_type": "code",
   "execution_count": 1,
   "id": "initial_id",
   "metadata": {
    "collapsed": true,
    "ExecuteTime": {
     "end_time": "2024-04-16T15:54:49.447456800Z",
     "start_time": "2024-04-16T15:54:45.720160300Z"
    }
   },
   "outputs": [],
   "source": [
    "import joblib\n",
    "import tensorflow as tf"
   ]
  },
  {
   "cell_type": "code",
   "execution_count": 2,
   "outputs": [],
   "source": [
    "#Load Scikit\n",
    "model = joblib.load('lr_model.pkl')"
   ],
   "metadata": {
    "collapsed": false,
    "ExecuteTime": {
     "end_time": "2024-04-16T15:59:25.474348100Z",
     "start_time": "2024-04-16T15:59:24.872470700Z"
    }
   },
   "id": "b4e81a0254e4181c"
  },
  {
   "cell_type": "code",
   "execution_count": 3,
   "outputs": [],
   "source": [
    "# Extract coefficients and intercept\n",
    "weights = model.coef_\n",
    "bias = model.intercept_"
   ],
   "metadata": {
    "collapsed": false,
    "ExecuteTime": {
     "end_time": "2024-04-16T15:59:25.980990400Z",
     "start_time": "2024-04-16T15:59:25.973500800Z"
    }
   },
   "id": "18929bab33a94aa"
  },
  {
   "cell_type": "code",
   "execution_count": 4,
   "outputs": [
    {
     "name": "stderr",
     "output_type": "stream",
     "text": [
      "C:\\Users\\reime\\PycharmProjects\\SleepData\\venv\\Lib\\site-packages\\keras\\src\\layers\\core\\dense.py:86: UserWarning: Do not pass an `input_shape`/`input_dim` argument to a layer. When using Sequential models, prefer using an `Input(shape)` object as the first layer in the model instead.\n",
      "  super().__init__(activity_regularizer=activity_regularizer, **kwargs)\n"
     ]
    }
   ],
   "source": [
    "# Create a TensorFlow model\n",
    "tf_model = tf.keras.Sequential([\n",
    "    tf.keras.layers.Dense(1, input_shape=(len(weights),), kernel_initializer=tf.constant_initializer(weights),\n",
    "                          bias_initializer=tf.constant_initializer(bias))\n",
    "])\n",
    "\n",
    "# Compile the model (you can adjust optimizer and loss as per your needs)\n",
    "tf_model.compile(optimizer='sgd', loss='mse')"
   ],
   "metadata": {
    "collapsed": false,
    "ExecuteTime": {
     "end_time": "2024-04-16T15:59:27.429275400Z",
     "start_time": "2024-04-16T15:59:27.378443600Z"
    }
   },
   "id": "54f26ab479293be1"
  },
  {
   "cell_type": "code",
   "execution_count": null,
   "outputs": [
    {
     "name": "stdout",
     "output_type": "stream",
     "text": [
      "INFO:tensorflow:Assets written to: C:\\Users\\reime\\AppData\\Local\\Temp\\tmpzfmwqqx0\\assets\n"
     ]
    },
    {
     "name": "stderr",
     "output_type": "stream",
     "text": [
      "INFO:tensorflow:Assets written to: C:\\Users\\reime\\AppData\\Local\\Temp\\tmpzfmwqqx0\\assets\n"
     ]
    }
   ],
   "source": [
    "#Tensorflow Model to TFLite\n",
    "converter = tf.lite.TFLiteConverter.from_keras_model(tf_model)\n",
    "tflite_model = converter.convert()"
   ],
   "metadata": {
    "collapsed": false,
    "is_executing": true,
    "ExecuteTime": {
     "start_time": "2024-04-16T14:16:08.717546200Z"
    }
   },
   "id": "12e45f1ef697a7b1"
  },
  {
   "cell_type": "code",
   "execution_count": null,
   "outputs": [],
   "source": [
    "# Save the TFLite to a file \n",
    "with open('sleep_lr.tflite', 'wb') as f:\n",
    "    f.write(tflite_model)"
   ],
   "metadata": {
    "collapsed": false
   },
   "id": "3ff16783cbb93c50"
  }
 ],
 "metadata": {
  "kernelspec": {
   "display_name": "Python 3",
   "language": "python",
   "name": "python3"
  },
  "language_info": {
   "codemirror_mode": {
    "name": "ipython",
    "version": 2
   },
   "file_extension": ".py",
   "mimetype": "text/x-python",
   "name": "python",
   "nbconvert_exporter": "python",
   "pygments_lexer": "ipython2",
   "version": "2.7.6"
  }
 },
 "nbformat": 4,
 "nbformat_minor": 5
}
